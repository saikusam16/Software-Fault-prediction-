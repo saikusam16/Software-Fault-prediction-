{
 "cells": [
  {
   "cell_type": "code",
   "execution_count": 1,
   "metadata": {},
   "outputs": [],
   "source": [
    "import numpy as np\n",
    "import matplotlib.pyplot as plt\n",
    "import pandas as pd\n",
    "import pandas as pd\n",
    "import matplotlib.pyplot as plt\n",
    "from sklearn.model_selection import train_test_split\n",
    "from sklearn.linear_model import LogisticRegression\n",
    "from sklearn.metrics import confusion_matrix, accuracy_score, roc_curve, classification_report"
   ]
  },
  {
   "cell_type": "code",
   "execution_count": 2,
   "metadata": {},
   "outputs": [
    {
     "name": "stdout",
     "output_type": "stream",
     "text": [
      "     wmc  dit  noc  cbo  rfc  lcom  ca  ce  npm     lcom3  ...       dam  moa  \\\n",
      "0      2    1    0    0    2     1   0   0    2  2.000000  ...  0.000000    0   \n",
      "1      5    1    0    0    5    10   0   0    5  2.000000  ...  0.000000    0   \n",
      "2      1    1    0    0    1     0   0   0    1  2.000000  ...  0.000000    0   \n",
      "3      7    1    0    0    7    21   0   0    7  2.000000  ...  0.000000    0   \n",
      "4      7    1    0    0    7    21   0   0    7  2.000000  ...  0.000000    0   \n",
      "..   ...  ...  ...  ...  ...   ...  ..  ..  ...       ...  ...       ...  ...   \n",
      "583   25    1    0   41  137   122  15  37    3  0.863095  ...  0.642857   22   \n",
      "584   78    4    1   42  166  2643  39  21   49  0.944805  ...  0.833333    3   \n",
      "585   24    3    1   17  122     0   1  16   21  0.856072  ...  0.931034    7   \n",
      "586   31    1    0   28   98   301   9  22   24  0.949425  ...  0.965517    6   \n",
      "587   46    1    0   51  178   461   6  47   28  0.897917  ...  0.375000   21   \n",
      "\n",
      "          mfa       cam  ic  cbm         amc  max_cc  avg_cc  bug  \n",
      "0    0.000000  0.750000   0    0    0.000000       1  1.0000    n  \n",
      "1    0.000000  0.700000   0    0    0.000000       1  1.0000    n  \n",
      "2    0.000000  1.000000   0    0    0.000000       1  1.0000    n  \n",
      "3    0.000000  0.428571   0    0    0.000000       1  1.0000    n  \n",
      "4    0.000000  1.000000   0    0    0.000000       1  1.0000    n  \n",
      "..        ...       ...  ..  ...         ...     ...     ...  ...  \n",
      "583  0.000000  0.177778   0    0  124.400000      31  7.0800    y  \n",
      "584  0.519737  0.129058   2   19   14.974359       9  1.3333    y  \n",
      "585  0.651515  0.250000   3   10   63.083333       4  1.0833    y  \n",
      "586  0.000000  0.169697   0    0   42.354839      39  2.9032    y  \n",
      "587  0.000000  0.157143   0    0   66.239130      51  4.8913    y  \n",
      "\n",
      "[588 rows x 21 columns]\n"
     ]
    }
   ],
   "source": [
    "df1 = pd. read_csv(r\"C:\\Users\\user\\Desktop\\dataset2.csv\")\n",
    "print(df1)"
   ]
  },
  {
   "cell_type": "code",
   "execution_count": 3,
   "metadata": {},
   "outputs": [],
   "source": [
    "y = df1['bug']\n",
    "X = df1.drop(['bug'], axis=1)\n",
    "train_x, test_x, train_y, test_y = train_test_split(X, y, test_size=0.4, random_state=1)"
   ]
  },
  {
   "cell_type": "code",
   "execution_count": 4,
   "metadata": {},
   "outputs": [
    {
     "name": "stdout",
     "output_type": "stream",
     "text": [
      "confussion matrix\n",
      "[[ 55   6]\n",
      " [ 20 155]]\n",
      "\n",
      "\n",
      "Accuracy of Logistic Regression: 88.98305084745762 \n",
      "\n",
      "              precision    recall  f1-score   support\n",
      "\n",
      "           n       0.73      0.90      0.81        61\n",
      "           y       0.96      0.89      0.92       175\n",
      "\n",
      "    accuracy                           0.89       236\n",
      "   macro avg       0.85      0.89      0.87       236\n",
      "weighted avg       0.90      0.89      0.89       236\n",
      "\n"
     ]
    }
   ],
   "source": [
    "m1 = 'LogisticRegression'\n",
    "lr = LogisticRegression(random_state=1, max_iter=1000)\n",
    "model = lr.fit(train_x, train_y)\n",
    "lr_predict = lr.predict(test_x)\n",
    "lr_conf_matrix = confusion_matrix(test_y, lr_predict)\n",
    "lr_acc_score = accuracy_score(test_y, lr_predict)\n",
    "print(\"confussion matrix\")\n",
    "print(lr_conf_matrix)\n",
    "print(\"\\n\")\n",
    "print(\"Accuracy of Logistic Regression:\",lr_acc_score*100,'\\n')\n",
    "print(classification_report(test_y,lr_predict))"
   ]
  },
  {
   "cell_type": "code",
   "execution_count": null,
   "metadata": {},
   "outputs": [],
   "source": []
  }
 ],
 "metadata": {
  "kernelspec": {
   "display_name": "Python 3",
   "language": "python",
   "name": "python3"
  },
  "language_info": {
   "codemirror_mode": {
    "name": "ipython",
    "version": 3
   },
   "file_extension": ".py",
   "mimetype": "text/x-python",
   "name": "python",
   "nbconvert_exporter": "python",
   "pygments_lexer": "ipython3",
   "version": "3.9.4"
  }
 },
 "nbformat": 4,
 "nbformat_minor": 4
}
